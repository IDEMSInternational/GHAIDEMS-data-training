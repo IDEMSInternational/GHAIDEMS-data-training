{
 "cells": [
  {
   "cell_type": "markdown",
   "metadata": {},
   "source": [
    "# Data Science in Python part 2"
   ]
  },
  {
   "cell_type": "code",
   "execution_count": null,
   "metadata": {},
   "outputs": [],
   "source": [
    "import warnings\n",
    "warnings.simplefilter(action='ignore', category=FutureWarning)\n",
    "\n",
    "import pandas as pd\n",
    "import seaborn as sns\n",
    "import matplotlib.pyplot as plt\n",
    "import plotly.express as px\n",
    "import numpy as np\n",
    "\n",
    "pd.DataFrame.iteritems = pd.DataFrame.items"
   ]
  },
  {
   "cell_type": "markdown",
   "metadata": {},
   "source": [
    "## Fixing data\n",
    "\n",
    "In the previous notebook you may have found the following things about the data:\n",
    "\n",
    "- Dropped decimal points: mortality rates, vaccination percentages and GDP had entries which look off by factors of 10, 100, 1000, etc.\n",
    "- Other bimodal or multimodal distributions: for example BMI figures look out in certain countries but not by factors of 10. This might be because BMI is calculated from other measurements (feet and inches instead of metres, pounds instead of kg) and not converted properly.\n",
    "- Infant mortality rates should be per 1000, but the maximum values are 1800!\n",
    "- Percentage expentidure should be out of 100, but for some countries was much higher.\n",
    "- It looks like some countries recorded measles as a rate, and others as total incidence. Note that in Ghana, the drop in measles measurements does coincide with a measles vaccination programme in 2002/2003. \n",
    "- There are lots of missing values.\n",
    "\n",
    "With most of these issues, it's not easy to fix the data in a sensible way. The best thing to do is to find alternative data to compare or use instead.\n",
    "\n",
    "Sometimes, however, you may be forced to use the data you have available. Here are some things you can do."
   ]
  },
  {
   "cell_type": "code",
   "execution_count": null,
   "metadata": {},
   "outputs": [],
   "source": [
    "df = pd.read_csv(\"https://raw.githubusercontent.com/IDEMSInternational/GHAIDEMS-data-training/main/life_expectancy.csv\")"
   ]
  },
  {
   "cell_type": "markdown",
   "metadata": {},
   "source": [
    "### Fill in missing values\n",
    "\n",
    "The following code fills in the missing values in the \"Alcohol\" column with the total mean for that column. Why might this be innappropriate? "
   ]
  },
  {
   "cell_type": "code",
   "execution_count": null,
   "metadata": {},
   "outputs": [],
   "source": [
    "df[\"Alcohol\"] = df[\"Alcohol\"].fillna(df[\"Alcohol\"].mean())"
   ]
  },
  {
   "cell_type": "markdown",
   "metadata": {},
   "source": [
    "### Fix decimal point errors\n",
    "\n",
    "Here is a basic attempt to fix some decimal point errors in the Ghana GDP column."
   ]
  },
  {
   "cell_type": "code",
   "execution_count": null,
   "metadata": {},
   "outputs": [],
   "source": [
    "df_ghana = df[df[\"Country\"] == \"Ghana\"]"
   ]
  },
  {
   "cell_type": "code",
   "execution_count": null,
   "metadata": {},
   "outputs": [],
   "source": [
    "df_ghana[\"GDP\"]"
   ]
  },
  {
   "cell_type": "code",
   "execution_count": null,
   "metadata": {},
   "outputs": [],
   "source": [
    "df_ghana.loc[:,\"GDP\"] = np.where(df_ghana[\"GDP\"] < 200, df_ghana[\"GDP\"]*10, df_ghana[\"GDP\"])"
   ]
  },
  {
   "cell_type": "code",
   "execution_count": null,
   "metadata": {},
   "outputs": [],
   "source": [
    "df_ghana[\"GDP\"]"
   ]
  },
  {
   "cell_type": "markdown",
   "metadata": {},
   "source": [
    "What are the problems with doing this? How could you improve it?"
   ]
  },
  {
   "cell_type": "markdown",
   "metadata": {},
   "source": [
    "## A fixed dataset\n",
    "\n",
    "Fortunately, someone has already gone through to fix a lot of the dataset errors, including the decimal point errors, sporadic data and missing values."
   ]
  },
  {
   "cell_type": "code",
   "execution_count": null,
   "metadata": {},
   "outputs": [],
   "source": [
    "df = pd.read_csv(\"https://raw.githubusercontent.com/IDEMSInternational/GHAIDEMS-data-training/main/life_expectancy_fixed.csv\")"
   ]
  },
  {
   "cell_type": "code",
   "execution_count": null,
   "metadata": {},
   "outputs": [],
   "source": [
    "df.head()"
   ]
  },
  {
   "cell_type": "code",
   "execution_count": null,
   "metadata": {},
   "outputs": [],
   "source": [
    "df.info()"
   ]
  },
  {
   "cell_type": "markdown",
   "metadata": {},
   "source": [
    "The column names are slightly different, but the data is largely the same. We see there are no missing values.\n",
    "\n",
    "Unfortunately, the data is not in the same order. The following command orders the data first by Country, alphabetically, and then by Year, numerically. "
   ]
  },
  {
   "cell_type": "code",
   "execution_count": null,
   "metadata": {},
   "outputs": [],
   "source": [
    "df = df.sort_values([\"Country\", \"Year\"]).reset_index(drop=True)"
   ]
  },
  {
   "cell_type": "code",
   "execution_count": null,
   "metadata": {},
   "outputs": [],
   "source": [
    "df.head()"
   ]
  },
  {
   "cell_type": "markdown",
   "metadata": {},
   "source": [
    "If you want, you can check the data using the methods in the previous notebook."
   ]
  },
  {
   "cell_type": "markdown",
   "metadata": {},
   "source": [
    "## Visualising data in plotly\n",
    "\n",
    "### Viewing mean data per country\n",
    "\n",
    "The following command finds the mean value of each column for each country (each country has multiple values for each year 2000-2015)."
   ]
  },
  {
   "cell_type": "code",
   "execution_count": null,
   "metadata": {},
   "outputs": [],
   "source": [
    "df_mean = df.drop(\"Year\", axis=1).groupby([\"Country\", \"Region\"]).mean(numeric_only=True).reset_index()"
   ]
  },
  {
   "cell_type": "code",
   "execution_count": null,
   "metadata": {},
   "outputs": [],
   "source": [
    "df_mean.head()"
   ]
  },
  {
   "cell_type": "markdown",
   "metadata": {},
   "source": [
    "Let's make a plot of adult mortality against life expectancy."
   ]
  },
  {
   "cell_type": "code",
   "execution_count": null,
   "metadata": {},
   "outputs": [],
   "source": [
    "fig = px.scatter(\n",
    "    data_frame=df_mean, \n",
    "    x=\"Life_expectancy\", \n",
    "    y=\"Adult_mortality\",\n",
    ")\n",
    "fig.show()"
   ]
  },
  {
   "cell_type": "markdown",
   "metadata": {},
   "source": [
    "Let's add country labels and a trendline."
   ]
  },
  {
   "cell_type": "code",
   "execution_count": null,
   "metadata": {},
   "outputs": [],
   "source": [
    "fig = px.scatter(\n",
    "    data_frame=df_mean, \n",
    "    x=\"Life_expectancy\", \n",
    "    y=\"Adult_mortality\",\n",
    "    hover_name=\"Country\",\n",
    "    trendline=\"ols\",\n",
    ")\n",
    "fig.show()"
   ]
  },
  {
   "cell_type": "markdown",
   "metadata": {},
   "source": [
    "We can use colour, size and shape to visualise multidimensionality."
   ]
  },
  {
   "cell_type": "code",
   "execution_count": null,
   "metadata": {},
   "outputs": [],
   "source": [
    "fig = px.scatter(\n",
    "    data_frame=df_mean, \n",
    "    x=\"Life_expectancy\", \n",
    "    y=\"Adult_mortality\", \n",
    "    hover_name=\"Country\", \n",
    "    color=\"Region\", \n",
    "    size=\"GDP_per_capita\", \n",
    "    symbol=\"Developed\",\n",
    "    trendline=\"ols\", \n",
    "    trendline_scope=\"overall\")\n",
    "fig.show()\n"
   ]
  },
  {
   "cell_type": "markdown",
   "metadata": {},
   "source": [
    "Maybe that got too messy! We can use faceting to separate out some of the information."
   ]
  },
  {
   "cell_type": "code",
   "execution_count": null,
   "metadata": {},
   "outputs": [],
   "source": [
    "fig = px.scatter(\n",
    "    data_frame=df_mean, \n",
    "    x=\"Life_expectancy\", \n",
    "    y=\"Adult_mortality\", \n",
    "    hover_name=\"Country\", \n",
    "    facet_row=\"Developed\", \n",
    "    size=\"GDP_per_capita\", \n",
    "    color=\"Region\",\n",
    "    trendline=\"ols\", \n",
    "    trendline_scope=\"overall\")\n",
    "fig.show()"
   ]
  },
  {
   "cell_type": "markdown",
   "metadata": {},
   "source": [
    "### Finding other correlations and relationships\n",
    "\n",
    "Pandas dataframes have a `df.corr()` method which produces a correlation matrix between all variables."
   ]
  },
  {
   "cell_type": "code",
   "execution_count": null,
   "metadata": {},
   "outputs": [],
   "source": [
    "corr = df_mean.corr(numeric_only=True)\n",
    "\n",
    "display(corr)"
   ]
  },
  {
   "cell_type": "markdown",
   "metadata": {},
   "source": [
    "The seaborn plot `heatmap` is very useful for visualising this."
   ]
  },
  {
   "cell_type": "code",
   "execution_count": null,
   "metadata": {},
   "outputs": [],
   "source": [
    "sns.heatmap(corr)\n",
    "plt.show()"
   ]
  },
  {
   "cell_type": "markdown",
   "metadata": {},
   "source": [
    "You can use this matrix to produce some plots like the one we did for adult mortality against life expectancy."
   ]
  },
  {
   "cell_type": "code",
   "execution_count": null,
   "metadata": {},
   "outputs": [],
   "source": []
  },
  {
   "cell_type": "code",
   "execution_count": null,
   "metadata": {},
   "outputs": [],
   "source": [
    "fig = px.scatter_matrix(df_mean, dimensions=[\"Schooling\", \"Hepatitis_B\", \"Adult_mortality\", \"GDP_per_capita\"], color=\"Region\", hover_name=\"Country\")\n",
    "fig.show()"
   ]
  },
  {
   "cell_type": "markdown",
   "metadata": {},
   "source": [
    "### Some final cool things!\n",
    "\n",
    "You can animate a plot to visualise evolution over time. We'll return to the dataframe `df` for this, but again look at adult mortality against life expectancy."
   ]
  },
  {
   "cell_type": "code",
   "execution_count": null,
   "metadata": {},
   "outputs": [],
   "source": [
    "fig = px.scatter(\n",
    "    data_frame=df,\n",
    "    x=\"Life_expectancy\",\n",
    "    y=\"Adult_mortality\",\n",
    "    hover_name=\"Country\",\n",
    "    color=\"Region\",\n",
    "    size=\"GDP_per_capita\",\n",
    "    animation_frame=\"Year\",\n",
    ")\n",
    "fig.show()"
   ]
  },
  {
   "cell_type": "markdown",
   "metadata": {},
   "source": [
    "Almost every plotly plot can be animated in this way. It's a great way to view the time dimension of data.\n",
    "\n",
    "For the final cool thing, since this data is geographical, we can use plotly to produce a map plot. To do this, we need to supply each country in the list with its 'Iso 3 alpha' code. For example Afghanistan = AFG, Ghana = GHA, etc. \n",
    "\n",
    "The file `iso_3alpha_codes.csv` contains this. To add it to our dataframe we can use a left-merge with `pd.merge()`."
   ]
  },
  {
   "cell_type": "code",
   "execution_count": null,
   "metadata": {},
   "outputs": [],
   "source": [
    "iso = pd.read_csv(\"https://raw.githubusercontent.com/IDEMSInternational/GHAIDEMS-data-training/main/iso_3alpha_codes.csv\")"
   ]
  },
  {
   "cell_type": "code",
   "execution_count": null,
   "metadata": {},
   "outputs": [],
   "source": [
    "iso.head()"
   ]
  },
  {
   "cell_type": "code",
   "execution_count": null,
   "metadata": {},
   "outputs": [],
   "source": [
    "df_new = pd.merge(df, iso, how=\"left\", on=\"Country\")"
   ]
  },
  {
   "cell_type": "code",
   "execution_count": null,
   "metadata": {},
   "outputs": [],
   "source": [
    "df_new.head()"
   ]
  },
  {
   "cell_type": "markdown",
   "metadata": {},
   "source": [
    "Let's look at how measles vaccination rates have evolved over time."
   ]
  },
  {
   "cell_type": "code",
   "execution_count": null,
   "metadata": {},
   "outputs": [],
   "source": [
    "fig = px.choropleth(df_new, locations=\"ISO3\", color=\"Measles\", hover_name=\"Country\", animation_frame=\"Year\")\n",
    "fig.show()"
   ]
  }
 ],
 "metadata": {
  "language_info": {
   "name": "python"
  }
 },
 "nbformat": 4,
 "nbformat_minor": 2
}
