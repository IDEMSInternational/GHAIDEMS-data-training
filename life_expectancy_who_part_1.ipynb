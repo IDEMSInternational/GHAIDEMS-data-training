{
 "cells": [
  {
   "cell_type": "markdown",
   "metadata": {},
   "source": [
    "# Data Science in Python part 1"
   ]
  },
  {
   "cell_type": "markdown",
   "metadata": {},
   "source": [
    "## Preliminary analysis\n",
    "\n",
    "We will use the following packages:\n",
    "\n",
    "- pandas: data storage, manipulation and statistics\n",
    "- matplotlib: python's basic plotting package (equivalent to ggplot in R)\n",
    "- seaborn: an interface to matplotlib built around data visualisation\n",
    "- plotly: a more advanced graphical package for data visualisation"
   ]
  },
  {
   "cell_type": "code",
   "execution_count": null,
   "metadata": {},
   "outputs": [],
   "source": [
    "import warnings\n",
    "warnings.simplefilter(action='ignore', category=FutureWarning)\n",
    "\n",
    "import pandas as pd\n",
    "import seaborn as sns\n",
    "import matplotlib.pyplot as plt\n",
    "import plotly.express as px"
   ]
  },
  {
   "cell_type": "markdown",
   "metadata": {},
   "source": [
    "## Importing and viewing data\n",
    "\n",
    "We use pandas to import the dataset `life_expectancy.csv` into a `DataFrame`.\n",
    "\n",
    "A `DataFrame` (dataframe) is a two-dimensional tabular data format."
   ]
  },
  {
   "cell_type": "code",
   "execution_count": null,
   "metadata": {},
   "outputs": [],
   "source": [
    "df = pd.read_csv(\"https://raw.githubusercontent.com/IDEMSInternational/GHAIDEMS-data-training/main/life_expectancy.csv\")"
   ]
  },
  {
   "cell_type": "markdown",
   "metadata": {},
   "source": [
    "The command `df.head()` shows the first five rows of a dataframe."
   ]
  },
  {
   "cell_type": "code",
   "execution_count": null,
   "metadata": {},
   "outputs": [],
   "source": [
    "df.head()"
   ]
  },
  {
   "cell_type": "markdown",
   "metadata": {},
   "source": [
    "Some other useful commands:\n",
    "\n",
    "- `df.columns` shows all the columns.\n",
    "- `df[\"column_name\"]` restricts the data to a specific column.\n",
    "- `df[[\"column_name_1\", \"column_name_2\", ...]]` restricts the data to specific columns.\n",
    "- `df.info()` displays information about the entries (number, non-null, data type)."
   ]
  },
  {
   "cell_type": "code",
   "execution_count": null,
   "metadata": {},
   "outputs": [],
   "source": [
    "df.columns"
   ]
  },
  {
   "cell_type": "code",
   "execution_count": null,
   "metadata": {},
   "outputs": [],
   "source": [
    "df[\"Adult Mortality\"]\n",
    "\n",
    "# Try changing \"Adult Mortality\" to any value in the list above."
   ]
  },
  {
   "cell_type": "code",
   "execution_count": null,
   "metadata": {},
   "outputs": [],
   "source": [
    "df[[\"Country\", \"Adult Mortality\", \"Schooling\", \"GDP\"]].head()\n",
    "\n",
    "# Try selecting any 5 columns in the list above."
   ]
  },
  {
   "cell_type": "code",
   "execution_count": null,
   "metadata": {},
   "outputs": [],
   "source": [
    "df.info()"
   ]
  },
  {
   "cell_type": "markdown",
   "metadata": {},
   "source": [
    "## Basic statistics\n",
    "\n",
    "pandas can calculate basic statistics for a column or the whole dataframe."
   ]
  },
  {
   "cell_type": "code",
   "execution_count": null,
   "metadata": {},
   "outputs": [],
   "source": [
    "df[\"GDP\"].min()"
   ]
  },
  {
   "cell_type": "code",
   "execution_count": null,
   "metadata": {},
   "outputs": [],
   "source": [
    "df[\"percentage expenditure\"].max()"
   ]
  },
  {
   "cell_type": "markdown",
   "metadata": {},
   "source": [
    "Does this seem sensible as a percentage?"
   ]
  },
  {
   "cell_type": "code",
   "execution_count": null,
   "metadata": {},
   "outputs": [],
   "source": [
    "df[\"BMI\"].mean()"
   ]
  },
  {
   "cell_type": "markdown",
   "metadata": {},
   "source": [
    "Does this seem sensible as an average BMI?"
   ]
  },
  {
   "cell_type": "markdown",
   "metadata": {},
   "source": [
    "pandas has a very useful function, `df.describe`, which automatically generates summary statistics for every column of the dataframe."
   ]
  },
  {
   "cell_type": "code",
   "execution_count": null,
   "metadata": {},
   "outputs": [],
   "source": [
    "df.describe()"
   ]
  },
  {
   "cell_type": "markdown",
   "metadata": {},
   "source": [
    "## Basic visualisation\n",
    "\n",
    "The seaborn package is very good at quickly generating plots of your data. The function `sns.displot` produces a histogram of a single column.\n",
    "\n",
    "Since the data contains multiple entries per country, we will look at the mean values per country across years using `df.groupby(\"Country\").mean()`."
   ]
  },
  {
   "cell_type": "code",
   "execution_count": null,
   "metadata": {},
   "outputs": [],
   "source": [
    "df_mean = df.drop(\"Year\", axis=1).groupby(\"Country\").mean(numeric_only=True).reset_index()"
   ]
  },
  {
   "cell_type": "code",
   "execution_count": null,
   "metadata": {},
   "outputs": [],
   "source": [
    "df_mean.head()"
   ]
  },
  {
   "cell_type": "code",
   "execution_count": null,
   "metadata": {},
   "outputs": [],
   "source": [
    "sns.displot(df_mean, x=\"Life expectancy\")\n",
    "plt.show()"
   ]
  },
  {
   "cell_type": "code",
   "execution_count": null,
   "metadata": {},
   "outputs": [],
   "source": [
    "sns.displot(df_mean, x=\"BMI\")\n",
    "plt.show()"
   ]
  },
  {
   "cell_type": "markdown",
   "metadata": {},
   "source": [
    "This looks bimodal. Why do you think that is?"
   ]
  },
  {
   "cell_type": "markdown",
   "metadata": {},
   "source": [
    "## Over to you\n",
    "\n",
    "Let's focus on a single country, Ghana. Try to use the above tools to detect as many problems in the data as you can. When you're doing so, try to think of where these issues might have occured."
   ]
  },
  {
   "cell_type": "code",
   "execution_count": null,
   "metadata": {},
   "outputs": [],
   "source": [
    "# You can change Ghana to any other country in the dataset.\n",
    "\n",
    "df_ghana = df[df[\"Country\"] == \"Ghana\"]\n",
    "\n",
    "display(df_ghana)"
   ]
  },
  {
   "cell_type": "markdown",
   "metadata": {},
   "source": [
    "Try to think about:\n",
    "\n",
    "- Do the values make sense for the column heading? Percentages should be out of 100, mortality rates per 1000.\n",
    "- Are the values in a column consistent with each other? Are there outliers?\n",
    "- Do the missing values make sense?\n",
    "\n",
    "You could also look at data from other countries by changing Ghana to any other country in the dataset.\n",
    "\n",
    "The following code can help visualise trends over years to help check consistency. Just change \"Life expectancy\" to any other column name."
   ]
  },
  {
   "cell_type": "code",
   "execution_count": null,
   "metadata": {},
   "outputs": [],
   "source": [
    "sns.relplot(df_ghana, x=\"Year\", y=\"Life expectancy\", kind=\"line\") \n",
    "plt.show()"
   ]
  }
 ],
 "metadata": {
  "language_info": {
   "name": "python"
  }
 },
 "nbformat": 4,
 "nbformat_minor": 2
}
